{
 "cells": [
  {
   "cell_type": "markdown",
   "metadata": {},
   "source": [
    "# Getting started with Digital Analytics\n",
    "\n",
    "Welcome to the first week of the course. By the end of the tutorials of this week, you should acquire:\n",
    "\n",
    "**Knowledge on:**\n",
    "* Programing language: definition\n",
    "* Differences between Python and SPSS\n",
    "* What a code repository is\n",
    "* Data types and data structures\n",
    "* Conditions, functions and loops\n",
    "* Predictive analytics: definition\n",
    "\n",
    "**Skills:**\n",
    "* Using Jupyter Notebook and Jupyter Labs\n",
    "* Writing in Markdown\n",
    "* Transforming unstructured data in structured \n",
    "* Writing a basic function (condition)\n",
    "* Read output of logistic regression (ML)"
   ]
  },
  {
   "cell_type": "markdown",
   "metadata": {},
   "source": [
    "## What is Python?\n",
    "\n",
    "From the [Python homepage](https://www.python.org/doc/essays/blurb/):\n",
    "\n",
    "```\n",
    "Python is an interpreted, object-oriented, high-level programming language with dynamic semantics. Its high-level built in data structures, combined with dynamic typing and dynamic binding, make it very attractive for Rapid Application Development, as well as for use as a scripting or glue language to connect existing components together. Python's simple, easy to learn syntax emphasizes readability and therefore reduces the cost of program maintenance. Python supports modules and packages, which encourages program modularity and code reuse. The Python interpreter and the extensive standard library are available in source or binary form without charge for all major platforms, and can be freely distributed.\n",
    "```\n",
    "\n",
    "In short, for us:\n",
    "* It is a programming language\n",
    "* It is open source\n",
    "* It allows us to create functions, that can be reused\n",
    "* It has a very active development community, which provides several modules and packages that can do tons of stuff"
   ]
  },
  {
   "cell_type": "code",
   "execution_count": null,
   "metadata": {},
   "outputs": [],
   "source": []
  },
  {
   "cell_type": "markdown",
   "metadata": {},
   "source": [
    "## Using Jupyter Notebook and Jupyter Labs\n",
    "\n",
    "We selected Jupyter Notebook (and Jupyter Labs) as they are one of the most popular and powerful ways to execute data analyses in Python. A Jupyter Notebook combines:\n",
    "* the Python code\n",
    "* the results of the Python code\n",
    "* annotations that you can make in MarkDown\n",
    "\n",
    "*Let's dive into this in a bit more detail*"
   ]
  },
  {
   "cell_type": "code",
   "execution_count": 2,
   "metadata": {},
   "outputs": [
    {
     "name": "stdout",
     "output_type": "stream",
     "text": [
      "This is a Python code\n"
     ]
    }
   ],
   "source": [
    "print('This is a Python code')"
   ]
  },
  {
   "cell_type": "markdown",
   "metadata": {},
   "source": [
    "What we see above is that ```print('This is a Python code')``` is the code you will run. When you run it, the cell will receive a line number on its left side. The results of the code appear immediately below it.\n",
    "\n",
    "In this case, the print command shows something on the screen - whatever is between parenthesis. We'll get to how it works in a bit."
   ]
  },
  {
   "cell_type": "markdown",
   "metadata": {},
   "source": [
    "The annotations you can make are in MarkDown. This is a special formatting language - that I am using now simply to write some text. It does not run any code, but is helpful to document what you are doing. \n",
    "\n",
    "It has a few interesting options:\n",
    "\n",
    "# Here I can make a first level heading\n",
    "## Now a second level heading\n",
    "### or a third level heading\n",
    "\n",
    "I can also write things in **bold** or in *italic*.\n",
    "\n",
    "And I can make unordered lists:\n",
    "* Item 1\n",
    "* Item 2\n",
    "* Item 3\n",
    "\n",
    "Or ordered lists:\n",
    "1. Item 1\n",
    "2. Item 2\n",
    "3. Item 3"
   ]
  },
  {
   "cell_type": "code",
   "execution_count": null,
   "metadata": {},
   "outputs": [],
   "source": []
  }
 ],
 "metadata": {
  "kernelspec": {
   "display_name": "Python 3",
   "language": "python",
   "name": "python3"
  },
  "language_info": {
   "codemirror_mode": {
    "name": "ipython",
    "version": 3
   },
   "file_extension": ".py",
   "mimetype": "text/x-python",
   "name": "python",
   "nbconvert_exporter": "python",
   "pygments_lexer": "ipython3",
   "version": "3.8.5"
  }
 },
 "nbformat": 4,
 "nbformat_minor": 2
}
