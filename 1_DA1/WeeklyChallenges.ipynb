{
 "cells": [
  {
   "cell_type": "markdown",
   "metadata": {},
   "source": [
    "# Warm-up challenges for week 1\n",
    "\n",
    "Now that we've seen how Python and Jupyter Notebooks work and that you have read about Digital Analytics and Computational Social Science, it's time for you to combine apply this knowledge. This week has three preparatory challenges. \n",
    "\n",
    "Each challenge has two components:\n",
    "1. **Programming and interpretation**\n",
    "3. **Reflection**\n",
    "\n",
    "**Some important notes for the challenges:**\n",
    "1. These challenges are a warming up, and help you get ready for class. Make sure to give them a try on all of them. \n",
    "2. If you get an error message, try to troubleshoot it (using Google often helps). If all else fails, go to the next challenge (but make sure to give it a try).\n",
    "3. These challenges are ungraded, yet they help you prepare for the graded challenges in the portfolio. If you want to be efficient, have a look at what you need to do for the upcoming graded challenges and see how to combine the work.\n",
    "\n",
    "### Facing issues? \n",
    "\n",
    "We are constantly monitoring the issues on the GitHub to help you out. Don't hesitate to log an issue there, explaining well what the problem is, showing the code you are using, and the error message you may be receiving. \n",
    "\n",
    "**Important:** We are only monitoring the repository in weekdays, from 9.30 to 17.00. Issues logged after this time will most likely be answered the next day. \n",
    "\n",
    "\n",
    "### Using Markdown\n",
    "\n",
    "1. Make sure to combine code *and* markdown to answer all questions. Mention specifically the question (and question number) and the answer in markdown, relating to the code and the output of the code. For the graded challenges, failing to do so will impact the grade, as we will not be able to see whether you answered the question.\n",
    "2. For every line of code, please include a cell in MarkDown explaining what the code is expected to do.\n",
    "\n",
    "\n",
    "\n",
    "## Challenge 1\n",
    "\n",
    "\n",
    "### Programming challenge\n",
    "\n",
    "Check out how to add (1) an image and (2) a link in a cell in MarkDown. You may need to search this online. Check how to do it, and include an image and a link in your notebook.\n",
    "\n",
    "### Reflection\n",
    "\n",
    "You are now working with Jupyter Notebooks and Python code - and submitting your notebook as html via Canvas. Review the article *van Atteveldt et al. (2019)* and explain how these activities relate to open science principles, and connect them to the Computational Science workflow. Motivate your response. "
   ]
  },
  {
   "cell_type": "code",
   "execution_count": null,
   "metadata": {},
   "outputs": [],
   "source": []
  },
  {
   "cell_type": "markdown",
   "metadata": {},
   "source": [
    "## Challenge 2\n",
    "\n",
    "### Programming challenge\n",
    "\n",
    "Below you have a list of visitors again, and in particular their referral. Imagine that this list of referrals to the website of a news organization is provided by Google Analytics. Create a function that categorizes the visitors according to some interesting set of categories.\n",
    "\n",
    "Please note that a part of the code is already written - with a loop that checks each item in the list. You need to complete the function.\n",
    "\n",
    "### Reflection\n",
    "\n",
    " Create an overview of the specific arenas, assets, actors and actions within the digital ecosystem that are relevant here, based on the discussion proposed in the *Araujo et al. (2021)* article. Make sure to also use examples from the list to motivate your answer."
   ]
  },
  {
   "cell_type": "code",
   "execution_count": null,
   "metadata": {},
   "outputs": [],
   "source": [
    "visitors = ['campaign utx=9902',\n",
    "             'instagram app',\n",
    "             'facebook app',\n",
    "             'campaign utx=1389',\n",
    "             'facebook app',\n",
    "             'google search',\n",
    "             'newsletter',\n",
    "             'facebook app',\n",
    "             'newsletter',\n",
    "             'campaign utx=9902',\n",
    "             'instagram app',\n",
    "             'campaign utx=1389',\n",
    "             'newsletter',\n",
    "             'facebook.com',\n",
    "             'facebook app',\n",
    "             'newsletter',\n",
    "             'google search',\n",
    "             'campaign utx=9902',\n",
    "             'campaign utx=9902',\n",
    "             'instagram app',\n",
    "             'organic',\n",
    "             'instagram app',\n",
    "             'news campaign 9902',\n",
    "             'instagram app',\n",
    "             'facebook app',\n",
    "             'facebook.com',\n",
    "             'campaign utx=9902',\n",
    "             'campaign utx=9902',\n",
    "             'campaign utx=1389',\n",
    "             'campaign utx=1389',\n",
    "             'facebook.com',\n",
    "             'news campaign 9902',\n",
    "             'newsletter',\n",
    "             'instagram app',\n",
    "             'instagram app',\n",
    "             'campaign utx=1389',\n",
    "             'direct',\n",
    "             'facebook.com',\n",
    "             'newsletter',\n",
    "             'direct',\n",
    "             'campaign utx=1389',\n",
    "             'direct',\n",
    "             'organic',\n",
    "             'facebook.com',\n",
    "             'facebook.com',\n",
    "             'facebook app',\n",
    "             'campaign utx=9902',\n",
    "             'google search',\n",
    "             'campaign utx=9902',\n",
    "             'campaign utx=1389']"
   ]
  },
  {
   "cell_type": "code",
   "execution_count": null,
   "metadata": {},
   "outputs": [],
   "source": [
    "def check_visitors(x):\n",
    "    # Include your code here. Make sure to include something after return, \n",
    "    # so the function returns the information needed.\n",
    "    \n",
    "   \n",
    "    return"
   ]
  },
  {
   "cell_type": "code",
   "execution_count": null,
   "metadata": {},
   "outputs": [],
   "source": [
    "# Run this cell to see if your code worked\n",
    "for visitor in visitors:\n",
    "    print(check_visitors(visitor))"
   ]
  },
  {
   "cell_type": "markdown",
   "metadata": {},
   "source": [
    "## Challenge 3\n",
    "\n",
    "### Programming\n",
    "\n",
    "This is the most important challenge of this tutorial, as we will use the concepts here to think how to organize our (digital) data. The paragraph below contains a lot of information. How would you organize this data in a way that you can visualize and work with it later? Consider using lists, dictionaries, tuples... or whatever makes sense to you! \n",
    "\n",
    "```\n",
    "John Smith is 32 years old, is an analyst at Salesforce UK,\n",
    "and is father to a young boy. He is divorced. \n",
    "Mary Smith is 21 years old, currently studies at the\n",
    "University of Amsterdam, and was born in the US. \n",
    "Tom Brokaw is a US journalist, born in 1940, \n",
    "married with three children.\n",
    "```\n",
    "\n",
    "### Reflection\n",
    "\n",
    "In this challenge, you created a set of structured data (a dataset) out of what it was somewhat unstructured data (a piece of text). While doing so, you made choices on how to structure these data. Please briefly reflect on some of the advantages and disadvantages of the approach you took, and what may be some (normative, ethical) implications of your choices."
   ]
  },
  {
   "cell_type": "code",
   "execution_count": null,
   "metadata": {},
   "outputs": [],
   "source": []
  },
  {
   "cell_type": "code",
   "execution_count": null,
   "metadata": {},
   "outputs": [],
   "source": []
  }
 ],
 "metadata": {
  "kernelspec": {
   "display_name": "Python 3",
   "language": "python",
   "name": "python3"
  },
  "language_info": {
   "codemirror_mode": {
    "name": "ipython",
    "version": 3
   },
   "file_extension": ".py",
   "mimetype": "text/x-python",
   "name": "python",
   "nbconvert_exporter": "python",
   "pygments_lexer": "ipython3",
   "version": "3.8.5"
  }
 },
 "nbformat": 4,
 "nbformat_minor": 4
}
