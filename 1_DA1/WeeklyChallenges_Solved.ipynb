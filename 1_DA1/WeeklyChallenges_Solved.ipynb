{
 "cells": [
  {
   "cell_type": "markdown",
   "metadata": {},
   "source": [
    "# Challenges for week 1\n",
    "\n",
    "## Name: Theo Araujo\n",
    "## Student number: 123345680\n",
    "\n",
    "\n",
    "## Challenge 1\n",
    "\n",
    "\n",
    "### Programming challenge\n",
    "\n",
    "Check out how to add (1) an image and (2) a link in a cell in MarkDown. You may need to search this online. Check how to do it, and include an image and a link in your notebook.\n",
    "\n",
    "### Reflection\n",
    "\n",
    "You are now working with Jupyter Notebooks and Python code - and submitting your notebook as html via Canvas. Review the article *van Atteveldt et al. (2019)* and explain how these activities relate to open science principles, and connect them to the Computational Science workflow. Motivate your response. "
   ]
  },
  {
   "cell_type": "markdown",
   "metadata": {},
   "source": [
    "## Answer to Programming challenge 1\n",
    "\n",
    "<img src='local_image.jpg'>\n",
    "\n",
    "![image_alt](local_image.jpg)\n",
    "\n",
    "https://uva.nl\n",
    "\n",
    "[this is a link](https://uva.nl)"
   ]
  },
  {
   "cell_type": "markdown",
   "metadata": {},
   "source": [
    "<img src=\"https://www.uva.nl/binaries/_ht_1610097113963/cardsmall/content/gallery/faculteiten-en-diensten/restyling18-generiek-beeld/marijniz_160119_0503.jpg\">"
   ]
  },
  {
   "cell_type": "markdown",
   "metadata": {},
   "source": [
    "## Reflection to Challenge 1\n",
    "\n",
    "This is the text with my reflection."
   ]
  },
  {
   "cell_type": "markdown",
   "metadata": {},
   "source": [
    "## Challenge 2\n",
    "\n",
    "### Programming challenge\n",
    "\n",
    "Below you have a list of visitors again, and in particular their referral. Imagine that this list of referrals to the website of a news organization is provided by Google Analytics. Create a function that categorizes the visitors according to some interesting set of categories.\n",
    "\n",
    "Please note that a part of the code is already written - with a loop that checks each item in the list. You need to complete the function.\n",
    "\n",
    "### Reflection\n",
    "\n",
    " Create an overview of the specific arenas, assets, actors and actions within the digital ecosystem that are relevant here, based on the discussion proposed in the *Araujo et al. (2021)* article. Make sure to also use examples from the list to motivate your answer."
   ]
  },
  {
   "cell_type": "code",
   "execution_count": 1,
   "metadata": {},
   "outputs": [],
   "source": [
    "visitors = ['campaign utx=9902',\n",
    "             'instagram app',\n",
    "             'facebook app',\n",
    "             'campaign utx=1389',\n",
    "             'facebook app',\n",
    "             'google search',\n",
    "             'newsletter',\n",
    "             'facebook app',\n",
    "             'newsletter',\n",
    "             'campaign utx=9902',\n",
    "             'instagram app',\n",
    "             'campaign utx=1389',\n",
    "             'newsletter',\n",
    "             'facebook.com',\n",
    "             'facebook app',\n",
    "             'newsletter',\n",
    "             'google search',\n",
    "             'campaign utx=9902',\n",
    "             'campaign utx=9902',\n",
    "             'instagram app',\n",
    "             'organic',\n",
    "             'instagram app',\n",
    "             'news campaign 9902',\n",
    "             'instagram app',\n",
    "             'facebook app',\n",
    "             'facebook.com',\n",
    "             'campaign utx=9902',\n",
    "             'campaign utx=9902',\n",
    "             'campaign utx=1389',\n",
    "             'campaign utx=1389',\n",
    "             'facebook.com',\n",
    "             'news campaign 9902',\n",
    "             'newsletter',\n",
    "             'instagram app',\n",
    "             'instagram app',\n",
    "             'campaign utx=1389',\n",
    "             'direct',\n",
    "             'facebook.com',\n",
    "             'newsletter',\n",
    "             'direct',\n",
    "             'campaign utx=1389',\n",
    "             'direct',\n",
    "             'organic',\n",
    "             'facebook.com',\n",
    "             'facebook.com',\n",
    "             'facebook app',\n",
    "             'campaign utx=9902',\n",
    "             'google search',\n",
    "             'campaign utx=9902',\n",
    "             'campaign utx=1389']"
   ]
  },
  {
   "cell_type": "code",
   "execution_count": 2,
   "metadata": {},
   "outputs": [],
   "source": [
    "def check_visitors(x):\n",
    "    # Include your code here. Make sure to include something after return, \n",
    "    # so the function returns the information needed.\n",
    "    if 'facebook' in x:\n",
    "        return 'social media'\n",
    "    if 'campaign' in x:\n",
    "        return 'advertisement'\n",
    "    if x in ['direct', 'organic', 'google search']:\n",
    "        return 'referrals'\n",
    "    if 'news' in x:\n",
    "        return 'newsletter'\n",
    "    if 'instagram' in x:\n",
    "        return 'social media'\n",
    "   \n",
    "    return 'not categorized'"
   ]
  },
  {
   "cell_type": "code",
   "execution_count": 3,
   "metadata": {},
   "outputs": [
    {
     "name": "stdout",
     "output_type": "stream",
     "text": [
      "advertisement\n",
      "social media\n",
      "social media\n",
      "advertisement\n",
      "social media\n",
      "referrals\n",
      "newsletter\n",
      "social media\n",
      "newsletter\n",
      "advertisement\n",
      "social media\n",
      "advertisement\n",
      "newsletter\n",
      "social media\n",
      "social media\n",
      "newsletter\n",
      "referrals\n",
      "advertisement\n",
      "advertisement\n",
      "social media\n",
      "referrals\n",
      "social media\n",
      "advertisement\n",
      "social media\n",
      "social media\n",
      "social media\n",
      "advertisement\n",
      "advertisement\n",
      "advertisement\n",
      "advertisement\n",
      "social media\n",
      "advertisement\n",
      "newsletter\n",
      "social media\n",
      "social media\n",
      "advertisement\n",
      "referrals\n",
      "social media\n",
      "newsletter\n",
      "referrals\n",
      "advertisement\n",
      "referrals\n",
      "referrals\n",
      "social media\n",
      "social media\n",
      "social media\n",
      "advertisement\n",
      "referrals\n",
      "advertisement\n",
      "advertisement\n"
     ]
    }
   ],
   "source": [
    "# Run this cell to see if your code worked\n",
    "for visitor in visitors:\n",
    "    print(check_visitors(visitor))"
   ]
  },
  {
   "cell_type": "markdown",
   "metadata": {},
   "source": [
    "## Challenge 3\n",
    "\n",
    "### Programming\n",
    "\n",
    "This is the most important challenge of this tutorial, as we will use the concepts here to think how to organize our (digital) data. The paragraph below contains a lot of information. How would you organize this data in a way that you can visualize and work with it later? Consider using lists, dictionaries, tuples... or whatever makes sense to you! \n",
    "\n",
    "```\n",
    "John Smith is 32 years old, is an analyst at Salesforce UK,\n",
    "and is father to a young boy. He is divorced. \n",
    "Mary Smith is 21 years old, currently studies at the\n",
    "University of Amsterdam, and was born in the US. \n",
    "Tom Brokaw is a US journalist, born in 1940, \n",
    "married with three children.\n",
    "```\n",
    "\n",
    "### Reflection\n",
    "\n",
    "In this challenge, you created a set of structured data (a dataset) out of what it was somewhat unstructured data (a piece of text). While doing so, you made choices on how to structure these data. Please briefly reflect on some of the advantages and disadvantages of the approach you took, and what may be some (normative, ethical) implications of your choices."
   ]
  },
  {
   "cell_type": "markdown",
   "metadata": {},
   "source": [
    "| Name     | Age  | Job | Company | Marital status | Country of origin | Country of residence |\n",
    "|----------|------|-----|---------|----------------|-------------------|----------------------|\n",
    "| John Smith | 32 | Analyst | Salesforce | Divorced | ? | UK |\n",
    "| Mary Smith | 21 | Student | University of Amsterdam | ? | US | NL |\n",
    "| Tom Brokaw | 81 | Journalist | Divorced | ? | ? | ? |"
   ]
  },
  {
   "cell_type": "code",
   "execution_count": 5,
   "metadata": {},
   "outputs": [],
   "source": [
    "data = {'John Smith': {'Job': 'Analyst', 'Age': 32},\n",
    "        'Mary Smith': {'Job': 'Student', 'Age': 21},\n",
    "        'Tom Brokaw': {'Job': 'Journalist', 'Age': 81},  \n",
    "\n",
    "}"
   ]
  },
  {
   "cell_type": "code",
   "execution_count": 6,
   "metadata": {},
   "outputs": [
    {
     "data": {
      "text/plain": [
       "32"
      ]
     },
     "execution_count": 6,
     "metadata": {},
     "output_type": "execute_result"
    }
   ],
   "source": [
    "data['John Smith']['Age']"
   ]
  },
  {
   "cell_type": "code",
   "execution_count": 7,
   "metadata": {},
   "outputs": [
    {
     "data": {
      "text/plain": [
       "{'Job': 'Student', 'Age': 21}"
      ]
     },
     "execution_count": 7,
     "metadata": {},
     "output_type": "execute_result"
    }
   ],
   "source": [
    "data['Mary Smith']"
   ]
  },
  {
   "cell_type": "code",
   "execution_count": 8,
   "metadata": {},
   "outputs": [],
   "source": [
    "data_as_list = [\n",
    "    {'Name':'John Smith', 'Job': 'Analyst', 'Age': 32 },\n",
    "    {'Name':'Mary Smith', 'Job': 'Student', 'Age': 21 },\n",
    "    {'Name': 'Tom Brokaw','Job': 'Journalist', 'Age': 81  }     \n",
    "    \n",
    "]"
   ]
  },
  {
   "cell_type": "code",
   "execution_count": 9,
   "metadata": {},
   "outputs": [
    {
     "data": {
      "text/plain": [
       "[{'Name': 'John Smith', 'Job': 'Analyst', 'Age': 32},\n",
       " {'Name': 'Mary Smith', 'Job': 'Student', 'Age': 21},\n",
       " {'Name': 'Tom Brokaw', 'Job': 'Journalist', 'Age': 81}]"
      ]
     },
     "execution_count": 9,
     "metadata": {},
     "output_type": "execute_result"
    }
   ],
   "source": [
    "data_as_list"
   ]
  },
  {
   "cell_type": "code",
   "execution_count": 10,
   "metadata": {},
   "outputs": [
    {
     "data": {
      "text/plain": [
       "'John Smith'"
      ]
     },
     "execution_count": 10,
     "metadata": {},
     "output_type": "execute_result"
    }
   ],
   "source": [
    "data_as_list[0]['Name']"
   ]
  },
  {
   "cell_type": "code",
   "execution_count": 11,
   "metadata": {},
   "outputs": [
    {
     "data": {
      "text/plain": [
       "'Mary Smith'"
      ]
     },
     "execution_count": 11,
     "metadata": {},
     "output_type": "execute_result"
    }
   ],
   "source": [
    "data_as_list[1]['Name']"
   ]
  },
  {
   "cell_type": "code",
   "execution_count": 12,
   "metadata": {},
   "outputs": [],
   "source": [
    "import pandas as pd"
   ]
  },
  {
   "cell_type": "code",
   "execution_count": 13,
   "metadata": {},
   "outputs": [],
   "source": [
    "df = pd.DataFrame(data_as_list)"
   ]
  },
  {
   "cell_type": "code",
   "execution_count": 14,
   "metadata": {},
   "outputs": [
    {
     "data": {
      "text/html": [
       "<div>\n",
       "<style scoped>\n",
       "    .dataframe tbody tr th:only-of-type {\n",
       "        vertical-align: middle;\n",
       "    }\n",
       "\n",
       "    .dataframe tbody tr th {\n",
       "        vertical-align: top;\n",
       "    }\n",
       "\n",
       "    .dataframe thead th {\n",
       "        text-align: right;\n",
       "    }\n",
       "</style>\n",
       "<table border=\"1\" class=\"dataframe\">\n",
       "  <thead>\n",
       "    <tr style=\"text-align: right;\">\n",
       "      <th></th>\n",
       "      <th>Name</th>\n",
       "      <th>Job</th>\n",
       "      <th>Age</th>\n",
       "    </tr>\n",
       "  </thead>\n",
       "  <tbody>\n",
       "    <tr>\n",
       "      <th>0</th>\n",
       "      <td>John Smith</td>\n",
       "      <td>Analyst</td>\n",
       "      <td>32</td>\n",
       "    </tr>\n",
       "    <tr>\n",
       "      <th>1</th>\n",
       "      <td>Mary Smith</td>\n",
       "      <td>Student</td>\n",
       "      <td>21</td>\n",
       "    </tr>\n",
       "    <tr>\n",
       "      <th>2</th>\n",
       "      <td>Tom Brokaw</td>\n",
       "      <td>Journalist</td>\n",
       "      <td>81</td>\n",
       "    </tr>\n",
       "  </tbody>\n",
       "</table>\n",
       "</div>"
      ],
      "text/plain": [
       "         Name         Job  Age\n",
       "0  John Smith     Analyst   32\n",
       "1  Mary Smith     Student   21\n",
       "2  Tom Brokaw  Journalist   81"
      ]
     },
     "execution_count": 14,
     "metadata": {},
     "output_type": "execute_result"
    }
   ],
   "source": [
    "df"
   ]
  },
  {
   "cell_type": "code",
   "execution_count": 15,
   "metadata": {},
   "outputs": [
    {
     "data": {
      "text/plain": [
       "44.666666666666664"
      ]
     },
     "execution_count": 15,
     "metadata": {},
     "output_type": "execute_result"
    }
   ],
   "source": [
    "df['Age'].mean()"
   ]
  },
  {
   "cell_type": "code",
   "execution_count": 16,
   "metadata": {},
   "outputs": [
    {
     "data": {
      "text/plain": [
       "count     3.000000\n",
       "mean     44.666667\n",
       "std      31.942657\n",
       "min      21.000000\n",
       "25%      26.500000\n",
       "50%      32.000000\n",
       "75%      56.500000\n",
       "max      81.000000\n",
       "Name: Age, dtype: float64"
      ]
     },
     "execution_count": 16,
     "metadata": {},
     "output_type": "execute_result"
    }
   ],
   "source": [
    "df['Age'].describe()"
   ]
  },
  {
   "cell_type": "code",
   "execution_count": 17,
   "metadata": {},
   "outputs": [
    {
     "data": {
      "text/plain": [
       "Tom Brokaw    1\n",
       "Mary Smith    1\n",
       "John Smith    1\n",
       "Name: Name, dtype: int64"
      ]
     },
     "execution_count": 17,
     "metadata": {},
     "output_type": "execute_result"
    }
   ],
   "source": [
    "df['Name'].value_counts()"
   ]
  },
  {
   "cell_type": "code",
   "execution_count": null,
   "metadata": {},
   "outputs": [],
   "source": []
  }
 ],
 "metadata": {
  "kernelspec": {
   "display_name": "Python 3",
   "language": "python",
   "name": "python3"
  },
  "language_info": {
   "codemirror_mode": {
    "name": "ipython",
    "version": 3
   },
   "file_extension": ".py",
   "mimetype": "text/x-python",
   "name": "python",
   "nbconvert_exporter": "python",
   "pygments_lexer": "ipython3",
   "version": "3.9.1"
  }
 },
 "nbformat": 4,
 "nbformat_minor": 4
}
