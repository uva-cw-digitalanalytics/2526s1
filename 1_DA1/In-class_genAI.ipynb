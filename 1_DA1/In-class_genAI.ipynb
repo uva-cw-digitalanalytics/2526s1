{
 "cells": [
  {
   "cell_type": "markdown",
   "metadata": {},
   "source": [
    "# In-class exercises\n",
    "## Using genAI for coding\n",
    "\n",
    "In today's in-class exercises you will try out three ways in which you can use genAI to help you with learning Python. Each of them allows you to better understand the code and become more independent programmer. \n",
    "\n",
    "### Exercise 1: Explanation of how code works\n",
    "\n",
    "If you do not understand how a piece of code works, you can ask AI to explain it. This can be done in a simple way, e.g. “Explain what this piece of code does: [your code]\". To get explanations on a certain expertise level, you can include the ‘persona prompt pattern’ (White et al., 2023). For instance, \"I want you to take on the persona of a university Python instructor talking to a student who has never taken a programming class before. Explain what this function does: [user’s code].” Another option is to specify/prime the type of desired code description: high-level, problem statement-like, or step-by-step.\n",
    "\n",
    "White, J., Fu, Q., Hays, S., Sandborn, M., Olea, C., Gilbert, H., Elnashar, A., Spence-Smith, J., & Schmidt, D. C. (2023). *A Prompt Pattern Catalog to Enhance Prompt Engineering with ChatGPT*. https://doi.org/10.48550/arXiv.2302.11382\n",
    "\n",
    "Imagine that you want to  write a simple Python script that analyzes the frequency of words in a given text (this is actually something we will do in a few weeks).\n",
    "\n",
    "#### Step 1: Understanding the Code\n",
    "Below is a Python script that processes a text input and counts how often each word appears. Pair with the classmate next to you, read the code and together, try to understand what each line does."
   ]
  },
  {
   "cell_type": "code",
   "execution_count": null,
   "metadata": {},
   "outputs": [],
   "source": [
    "text = \"In recent months, artificial intelligence has seen rapid advancements, with new models capable of generating realistic images, text, and even human-like conversations. However, these developments have reignited concerns over privacy, data security, and ethical AI usage. Major tech companies have introduced AI tools that can process vast amounts of personal data, leading to fears of potential misuse. For example, AI-powered surveillance and deepfake technology have raised alarms among privacy advocates. Additionally, the collection and use of biometric data by AI models have sparked debates about consent and data protection.\"\n",
    "  \n",
    "# Step 1: \n",
    "words = text.lower().split()\n",
    "\n",
    "# Step 2: \n",
    "word_count = {}  \n",
    "\n",
    "for word in words:\n",
    "    word = word.strip(\",.\")  \n",
    "    if word in word_count:\n",
    "        word_count[word] += 1\n",
    "    else:\n",
    "        word_count[word] = 1\n",
    "\n",
    "# Step 3: \n",
    "for word, count in word_count.items():\n",
    "    print(f\"{word}: {count}\")"
   ]
  },
  {
   "cell_type": "markdown",
   "metadata": {},
   "source": [
    "#### Step 2: Ask AI for Help\n",
    "If you don’t understand a part of the code, ask AI for an explanation. Try using different levels of detail. For example, you could try these prompts:\n",
    "\n",
    "**Basic Explanation**\n",
    "\n",
    "👉 \"Explain what this piece of code does: words = text.lower().split()\"\n",
    "\n",
    "**Persona Explanation**\n",
    "\n",
    "👉 \"I want you to take on the persona of a university instructor talking to a student who has never taken a programming class before. Explain  what this function does: word_count = {}\"\n",
    "\n",
    "***High-Level Summary***\n",
    "\n",
    "👉 “Explain this script in one sentence.”\n",
    "\n",
    "Try different prompts for the parts of the code you do not understand.\n",
    "\n",
    "#### Step 3: Reflect on AI’s Explanations\n",
    "\n",
    "* Did AI’s explanations help you understand the code?\n",
    "* Did different explanation styles (step-by-step, high-level) make a difference?\n",
    "* How can AI explanations be integrated in your learning?"
   ]
  },
  {
   "cell_type": "markdown",
   "metadata": {},
   "source": [
    "### Exercise 2: GenAI review of your code\n",
    "\n",
    "#### Step 1: get a review of your code\n",
    "\n",
    "Find the code you wrote for the second challenge this week. Ask AI for feedback on it. You can experiment with different types of feedback:\n",
    "\n",
    "**General Feedback**\n",
    "\n",
    "👉 “Review my Python function that categorizes the visitors of a website according to [your set of categories] and suggest improvements.”\n",
    "\n",
    "**Detailed, Enumerated Critique**\n",
    "\n",
    "👉 “Give me a list of critique points for my categorization function.”\n",
    "\n",
    "**Persona-Based Expert Review**\n",
    "\n",
    "👉 “I want you to take on the persona of a university instructor teaching a Python class to students who has never taken a programming class before. Review my categorization function and provide suggestions for improving efficiency and readability.”\n",
    "\n",
    "#### Step 2: Improve the Code Based on AI Feedback\n",
    "\n",
    "Try to  implement at least one suggested improvement from the AI review. \n",
    "\n",
    "#### Step 3: Reflect on AI's review\n",
    "\n",
    "* Was the AI review helpful?\n",
    "* What type of critique (general, enumerated, persona-based) was most useful?\n",
    "* How did the review process improve your understanding of Python?"
   ]
  },
  {
   "cell_type": "markdown",
   "metadata": {},
   "source": [
    "### Exercise 3: Think-Pair-Share\n",
    "\n",
    "You will write a Python function that calculates summary statistics for a list of numbers. You will then compare your solution with AI’s solution and discuss similarities, differences, and best practices.\n",
    "\n",
    "#### Step 1: Think – Write Your Own Function\n",
    "Write a Python function named summarize_numbers() that takes a list of numbers as input and returns a dictionary with the minimum, maximum, and mean values.\n",
    "\n",
    "Rules:\n",
    "* Assume the list contains at least one number and only numeric values.\n",
    "* Do not use built-in functions like min(), max(), or sum() (optional challenge).\n",
    "\n",
    "Try writing your function before moving to the next step!\n",
    "\n"
   ]
  },
  {
   "cell_type": "code",
   "execution_count": null,
   "metadata": {},
   "outputs": [],
   "source": []
  },
  {
   "cell_type": "markdown",
   "metadata": {},
   "source": [
    "#### Step 3: Pair – Ask AI for a Solution\n",
    "Now, prompt AI to solve the same problem:\n",
    "\n",
    "👉 “Write a Python function named summarize_numbers() that returns the min, max, and mean of a list of numbers.”\n",
    "\n",
    "Compare Your Code with AI's Solution\n",
    "* What differences do you notice?\n",
    "* Did AI use built-in functions or a different approach?\n",
    "* Which solution is more efficient or readable?\n",
    "* Did AI suggest any best practices that you missed?"
   ]
  },
  {
   "cell_type": "code",
   "execution_count": null,
   "metadata": {},
   "outputs": [],
   "source": []
  },
  {
   "cell_type": "markdown",
   "metadata": {},
   "source": [
    "#### Share: Reflect on AI's approach\n",
    "\n",
    "If AI’s solution is different from yours, you can ask:\n",
    "\n",
    "👉 “Why did you use this approach instead of X?”\n",
    "\n",
    "If AI’s solution is more efficient, you can ask:\n",
    "\n",
    "👉 “How can I optimize my code to be more like this?”\n",
    "\n",
    "If AI made an error, think why it might have happened."
   ]
  },
  {
   "cell_type": "markdown",
   "metadata": {},
   "source": []
  }
 ],
 "metadata": {
  "language_info": {
   "name": "python"
  }
 },
 "nbformat": 4,
 "nbformat_minor": 2
}
