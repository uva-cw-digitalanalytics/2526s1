{
 "cells": [
  {
   "cell_type": "markdown",
   "metadata": {},
   "source": [
    "# Python Basics 2\n",
    "\n",
    "## What we will cover?\n",
    "\n",
    "Now that we have a basic idea about Python data types, and explored the concept of lists, tuples and dictionaries, we're getting closer to concepts we'll use for data analysis. Especially in the Data Understanding and Data Preparation stages, we often will need to transform or clean up our data. The concepts that we will cover in this tutorial help us do this. Here's what we'll cover:\n",
    "\n",
    "* Conditions\n",
    "* Loops\n",
    "* Functions\n",
    "\n",
    "\n"
   ]
  },
  {
   "cell_type": "markdown",
   "metadata": {},
   "source": [
    "## Conditions\n",
    "\n",
    "Conditions are a way to test if something is happening and, if so, to do something about it. Let's explore a bit.\n"
   ]
  },
  {
   "cell_type": "code",
   "execution_count": 3,
   "metadata": {},
   "outputs": [],
   "source": [
    "a = 1"
   ]
  },
  {
   "cell_type": "code",
   "execution_count": 4,
   "metadata": {},
   "outputs": [
    {
     "name": "stdout",
     "output_type": "stream",
     "text": [
      "a is 1!!!\n"
     ]
    }
   ],
   "source": [
    "if a == 1:\n",
    "    print('a is 1!!!')"
   ]
  },
  {
   "cell_type": "code",
   "execution_count": 5,
   "metadata": {},
   "outputs": [],
   "source": [
    "a = 0"
   ]
  },
  {
   "cell_type": "code",
   "execution_count": 6,
   "metadata": {},
   "outputs": [],
   "source": [
    "if a == 1:\n",
    "    print('a is 1!')"
   ]
  },
  {
   "cell_type": "code",
   "execution_count": 7,
   "metadata": {},
   "outputs": [
    {
     "name": "stdout",
     "output_type": "stream",
     "text": [
      "a is not 2!\n"
     ]
    }
   ],
   "source": [
    "if a == 2:\n",
    "    print('a is 2!')\n",
    "else:\n",
    "    print('a is not 2!')"
   ]
  },
  {
   "cell_type": "markdown",
   "metadata": {},
   "source": [
    "Some important things that we've done above:\n",
    "* First, we indicated a condition by checking IF SOMETHING is equal (==) to SOMETHING ELSE.\n",
    "* Notice that after the condition, we have a :. It indicates what needs to be done if that condition is TRUE\n",
    "* After the column, we have indented text (meaning: there's a tab). Everything that is within that area (even the lines below, should they also be indented) belong to that condition\n",
    "* We also used ELSE to indicate what to do if the condition was FALSE\n",
    "\n",
    "\n",
    "Let's look at another example:"
   ]
  },
  {
   "cell_type": "code",
   "execution_count": 8,
   "metadata": {},
   "outputs": [
    {
     "name": "stdout",
     "output_type": "stream",
     "text": [
      "there's a 3 in my list\n",
      "my list has 3 items\n"
     ]
    }
   ],
   "source": [
    "mylist = [1, 2, 3]\n",
    "\n",
    "if 3 in mylist:\n",
    "    print(\"there's a 3 in my list\")\n",
    "    print(\"my list has\", len(mylist), \"items\")\n",
    "else:\n",
    "    print(\"there's no 3 in my list\")"
   ]
  },
  {
   "cell_type": "code",
   "execution_count": 9,
   "metadata": {},
   "outputs": [
    {
     "name": "stdout",
     "output_type": "stream",
     "text": [
      "there's no 4 in my list\n"
     ]
    }
   ],
   "source": [
    "if 4 in mylist:\n",
    "    print(\"there's a 4 in my list\")\n",
    "    print(\"my list has\", len(mylist), \"items\")\n",
    "else:\n",
    "    print(\"there's no 4 in my list\")"
   ]
  },
  {
   "cell_type": "code",
   "execution_count": 10,
   "metadata": {},
   "outputs": [
    {
     "name": "stdout",
     "output_type": "stream",
     "text": [
      "a < b\n"
     ]
    }
   ],
   "source": [
    "a = 1\n",
    "b = 1000000\n",
    "\n",
    "if a > b: \n",
    "    print('a > b')\n",
    "elif a < b: \n",
    "    print('a < b')\n",
    "elif a == b: \n",
    "    print('a == b')"
   ]
  },
  {
   "cell_type": "markdown",
   "metadata": {},
   "source": [
    "The \"elif\" condition is a shorthand for \"else if\". This allows us to check one condition and, if it is not true, check another condition. In the example above it does not matter. Check the two examples below and let's see why it matters."
   ]
  },
  {
   "cell_type": "code",
   "execution_count": 11,
   "metadata": {},
   "outputs": [
    {
     "name": "stdout",
     "output_type": "stream",
     "text": [
      "a == b\n"
     ]
    }
   ],
   "source": [
    "a = 0\n",
    "b = 0\n",
    "\n",
    "\n",
    "if a == b: \n",
    "    print('a == b')\n",
    "elif a == 0: \n",
    "    print('a == 0')\n"
   ]
  },
  {
   "cell_type": "code",
   "execution_count": 12,
   "metadata": {},
   "outputs": [
    {
     "name": "stdout",
     "output_type": "stream",
     "text": [
      "a == b\n",
      "a == 0\n"
     ]
    }
   ],
   "source": [
    "a = 0\n",
    "b = 0\n",
    "\n",
    "\n",
    "if a == b: \n",
    "    print('a == b')\n",
    "if a == 0: \n",
    "    print('a == 0')"
   ]
  },
  {
   "cell_type": "markdown",
   "metadata": {},
   "source": [
    "Enough about conditions for now. We'll use them a lot more later on, combined with loops and functions."
   ]
  },
  {
   "cell_type": "markdown",
   "metadata": {},
   "source": [
    "## Loops\n",
    "Loops are a way to ask Python to do something continuously - until a certain condition is met. While it is possible to create a loop that does not end (without an exit condition), we should never do that... otherwise, the code would run forever. Let's see some basic loops."
   ]
  },
  {
   "cell_type": "code",
   "execution_count": 13,
   "metadata": {},
   "outputs": [
    {
     "name": "stdout",
     "output_type": "stream",
     "text": [
      "counter at 0\n",
      "counter at 1\n",
      "counter at 2\n",
      "counter at 3\n",
      "counter at 4\n",
      "counter at 5\n",
      "counter at 6\n",
      "counter at 7\n",
      "counter at 8\n",
      "counter at 9\n",
      "counter finished at 10\n"
     ]
    }
   ],
   "source": [
    "counter = 0\n",
    "while counter < 10:\n",
    "    print('counter at', counter)\n",
    "    counter += 1\n",
    "\n",
    "print('counter finished at', counter)"
   ]
  },
  {
   "cell_type": "code",
   "execution_count": 14,
   "metadata": {},
   "outputs": [
    {
     "name": "stdout",
     "output_type": "stream",
     "text": [
      "1\n",
      "2\n",
      "3\n",
      "4\n",
      "5\n",
      "6\n",
      "7\n",
      "8\n",
      "9\n",
      "10\n"
     ]
    }
   ],
   "source": [
    "mylist = [1,2,3,4,5,6,7,8,9,10]\n",
    "\n",
    "for i in mylist:\n",
    "    print(i)"
   ]
  },
  {
   "cell_type": "markdown",
   "metadata": {},
   "source": [
    "**while** and **for** are some common ways to do loops in Python:\n",
    "* while will repeat the code (that is in the indented area) until a certain condition is met\n",
    "* for will loop for each element of a list (or a string, or tuple) until there are no elements anymore"
   ]
  },
  {
   "cell_type": "code",
   "execution_count": 15,
   "metadata": {},
   "outputs": [
    {
     "name": "stdout",
     "output_type": "stream",
     "text": [
      "t\n",
      "h\n",
      "i\n",
      "s\n",
      " \n",
      "i\n",
      "s\n",
      " \n",
      "a\n",
      " \n",
      "s\n",
      "e\n",
      "n\n",
      "t\n",
      "e\n",
      "n\n",
      "c\n",
      "e\n",
      "!\n"
     ]
    }
   ],
   "source": [
    "for l in 'this is a sentence!':\n",
    "    print(l)"
   ]
  },
  {
   "cell_type": "markdown",
   "metadata": {},
   "source": [
    "## Functions\n",
    "Functions are a way to repeat a certain activity multiple times in Python. They help you write a certain action once, and reuse it many times. As you can imagine, this is really powerful for data preparation. Let's see some examples.\n",
    "\n",
    "\n",
    "Let's say we want a function that always add 1 to any number we give to it.\n"
   ]
  },
  {
   "cell_type": "code",
   "execution_count": 16,
   "metadata": {},
   "outputs": [],
   "source": [
    "def add_one(number):\n",
    "    number = number + 1\n",
    "    return number"
   ]
  },
  {
   "cell_type": "code",
   "execution_count": 17,
   "metadata": {},
   "outputs": [
    {
     "data": {
      "text/plain": [
       "4"
      ]
     },
     "execution_count": 17,
     "metadata": {},
     "output_type": "execute_result"
    }
   ],
   "source": [
    "add_one(3)"
   ]
  },
  {
   "cell_type": "markdown",
   "metadata": {},
   "source": [
    "This may be going too fast. Let's look at the elements above that constitute a function.\n",
    "\n",
    "In the **first line**:\n",
    "* ```def``` indicates to Python that you are creating (defining) a function\n",
    "* ```add_one``` is the name of the function. You can give it any name you want, as long as (a) it does not start with a number or restricted character, (b) it does not have a space, and (c) it does not overlap with one of Python's basic commands.\n",
    "* ```(number)``` specifies the arguments that will be passed along to the function (i.e., that the function will use). It is up to you what name you give to the argument. A function can also be written without arguments - i.e., just ```()``` - but in this course we mostly will use arguments.\n",
    "* ```:``` don't forget this - as it indicates that the function has been defined, and what comes underneath is the function itself\n",
    "\n",
    "**After the first line**, notice the indent, i.e., that anything that happens inside the function is indented (with spaces) within the function. That way, Python knows until which line of the code belongs to the function.\n",
    "\n",
    "In this area, the function is being defined. The arguments - in our case, ```number``` - can then be used by the function in whatever operations we want to run. In this case, we are saying to add 1 to number or, in code, ```number = number + 1```.\n",
    "\n",
    "**In the last line of the function**, we have ```return```, which specifies what the function should return.\n",
    "\n",
    "\n",
    "\n",
    "\n",
    "\n"
   ]
  },
  {
   "cell_type": "markdown",
   "metadata": {},
   "source": [
    "*Tip:* the argument name is not important, as long as you use it consistently. Here we used ```number```, but we could have called it whatever we wanted. \n",
    "\n",
    "So:\n",
    "\n",
    "```\n",
    "def add_one(number):\n",
    "    number = number + 1\n",
    "    return number\n",
    "```\n",
    "\n",
    "Does the same thing as:\n",
    "```\n",
    "def add_one(whateveriwant):\n",
    "    whateveriwant = whateveriwant + 1\n",
    "    return whateveriwant\n",
    "```\n",
    "\n",
    "Or as:\n",
    "```\n",
    "def add_one(a):\n",
    "    a = a + 1\n",
    "    return a\n",
    "```"
   ]
  },
  {
   "cell_type": "code",
   "execution_count": 18,
   "metadata": {
    "scrolled": true
   },
   "outputs": [
    {
     "data": {
      "text/plain": [
       "1009210"
      ]
     },
     "execution_count": 18,
     "metadata": {},
     "output_type": "execute_result"
    }
   ],
   "source": [
    "add_one(1009209)"
   ]
  },
  {
   "cell_type": "code",
   "execution_count": 19,
   "metadata": {},
   "outputs": [
    {
     "data": {
      "text/plain": [
       "0"
      ]
     },
     "execution_count": 19,
     "metadata": {},
     "output_type": "execute_result"
    }
   ],
   "source": [
    "add_one(-1)"
   ]
  },
  {
   "cell_type": "code",
   "execution_count": 20,
   "metadata": {},
   "outputs": [],
   "source": [
    "mylist = [1,2,3,4,5,6]"
   ]
  },
  {
   "cell_type": "code",
   "execution_count": 21,
   "metadata": {},
   "outputs": [
    {
     "name": "stdout",
     "output_type": "stream",
     "text": [
      "2\n",
      "3\n",
      "4\n",
      "5\n",
      "6\n",
      "7\n"
     ]
    }
   ],
   "source": [
    "for item in mylist:\n",
    "    print(add_one(item))"
   ]
  },
  {
   "cell_type": "code",
   "execution_count": 22,
   "metadata": {},
   "outputs": [
    {
     "data": {
      "text/plain": [
       "[1, 2, 3, 4, 5, 6]"
      ]
     },
     "execution_count": 22,
     "metadata": {},
     "output_type": "execute_result"
    }
   ],
   "source": [
    "mylist"
   ]
  },
  {
   "cell_type": "markdown",
   "metadata": {},
   "source": [
    "Let's say we have a list with data that needs to be cleaned out. The list has numerical values (which we want), but some unneeded text data (that we want to change by 99, our code for missing value). How can we do this?"
   ]
  },
  {
   "cell_type": "code",
   "execution_count": 23,
   "metadata": {},
   "outputs": [],
   "source": [
    "mydata = [1,2.5,3,4,1,2,3,4,2,23,4,5,6,'firhkj', 1,2,3, 'dejde']"
   ]
  },
  {
   "cell_type": "code",
   "execution_count": 24,
   "metadata": {},
   "outputs": [
    {
     "data": {
      "text/plain": [
       "18"
      ]
     },
     "execution_count": 24,
     "metadata": {},
     "output_type": "execute_result"
    }
   ],
   "source": [
    "len(mydata)"
   ]
  },
  {
   "cell_type": "markdown",
   "metadata": {},
   "source": [
    "First, let's write a function to do this. In order to write a function, we need to see the type of check we need to make. The easiest way is to just simulate first ourselves."
   ]
  },
  {
   "cell_type": "code",
   "execution_count": 25,
   "metadata": {},
   "outputs": [
    {
     "data": {
      "text/plain": [
       "int"
      ]
     },
     "execution_count": 25,
     "metadata": {},
     "output_type": "execute_result"
    }
   ],
   "source": [
    "type(1)"
   ]
  },
  {
   "cell_type": "code",
   "execution_count": 26,
   "metadata": {},
   "outputs": [
    {
     "data": {
      "text/plain": [
       "float"
      ]
     },
     "execution_count": 26,
     "metadata": {},
     "output_type": "execute_result"
    }
   ],
   "source": [
    "type(2.5)"
   ]
  },
  {
   "cell_type": "code",
   "execution_count": 27,
   "metadata": {},
   "outputs": [
    {
     "data": {
      "text/plain": [
       "str"
      ]
     },
     "execution_count": 27,
     "metadata": {},
     "output_type": "execute_result"
    }
   ],
   "source": [
    "type('firhkj')"
   ]
  },
  {
   "cell_type": "markdown",
   "metadata": {},
   "source": [
    "Okay, so it looks like our condition needs to have something using the output of **type** (because we want numbers but not text). "
   ]
  },
  {
   "cell_type": "code",
   "execution_count": 28,
   "metadata": {},
   "outputs": [],
   "source": [
    "def check_number(item):\n",
    "    if type(item) == int:\n",
    "        return item\n",
    "    elif type(item) == float:\n",
    "        return item\n",
    "    else:\n",
    "        return 'not a float or integer'\n",
    "        "
   ]
  },
  {
   "cell_type": "code",
   "execution_count": 29,
   "metadata": {},
   "outputs": [
    {
     "data": {
      "text/plain": [
       "1"
      ]
     },
     "execution_count": 29,
     "metadata": {},
     "output_type": "execute_result"
    }
   ],
   "source": [
    "check_number(1)"
   ]
  },
  {
   "cell_type": "code",
   "execution_count": 30,
   "metadata": {},
   "outputs": [
    {
     "data": {
      "text/plain": [
       "2.5"
      ]
     },
     "execution_count": 30,
     "metadata": {},
     "output_type": "execute_result"
    }
   ],
   "source": [
    "check_number(2.5)"
   ]
  },
  {
   "cell_type": "code",
   "execution_count": 31,
   "metadata": {},
   "outputs": [
    {
     "data": {
      "text/plain": [
       "99"
      ]
     },
     "execution_count": 31,
     "metadata": {},
     "output_type": "execute_result"
    }
   ],
   "source": [
    "check_number('firhkj')"
   ]
  },
  {
   "cell_type": "markdown",
   "metadata": {},
   "source": [
    "Now for something more complex (and useful): let's say we have a list visitors coming from different websites, and we want to categorize the type of website."
   ]
  },
  {
   "cell_type": "code",
   "execution_count": 32,
   "metadata": {},
   "outputs": [],
   "source": [
    "visitors = ['Facebook', 'Twitter', 'Twitter', 'YouTube', 'NYT',\n",
    "           'Facebook', 'WP', 'YouTube', 'NYT', 'NYT', 'Instagram']"
   ]
  },
  {
   "cell_type": "code",
   "execution_count": 33,
   "metadata": {},
   "outputs": [
    {
     "data": {
      "text/plain": [
       "['Facebook',\n",
       " 'Twitter',\n",
       " 'Twitter',\n",
       " 'YouTube',\n",
       " 'NYT',\n",
       " 'Facebook',\n",
       " 'WP',\n",
       " 'YouTube',\n",
       " 'NYT',\n",
       " 'NYT',\n",
       " 'Instagram']"
      ]
     },
     "execution_count": 33,
     "metadata": {},
     "output_type": "execute_result"
    }
   ],
   "source": [
    "visitors"
   ]
  },
  {
   "cell_type": "markdown",
   "metadata": {},
   "source": [
    "Let's create a function for this:"
   ]
  },
  {
   "cell_type": "code",
   "execution_count": 34,
   "metadata": {},
   "outputs": [],
   "source": [
    "def check_website(website):\n",
    "    if website in ['Facebook', 'Twitter', 'Instagram']:\n",
    "        return 'Social Media'\n",
    "    if website in ['NYT', 'WP']:\n",
    "        return 'News website'\n",
    "    return 'not categorized'"
   ]
  },
  {
   "cell_type": "code",
   "execution_count": 35,
   "metadata": {},
   "outputs": [
    {
     "name": "stdout",
     "output_type": "stream",
     "text": [
      "Social Media\n",
      "Social Media\n",
      "Social Media\n",
      "not categorized\n",
      "News website\n",
      "Social Media\n",
      "News website\n",
      "not categorized\n",
      "News website\n",
      "News website\n",
      "Social Media\n"
     ]
    }
   ],
   "source": [
    "for item in visitors:\n",
    "    print(check_website(item))"
   ]
  },
  {
   "cell_type": "code",
   "execution_count": null,
   "metadata": {},
   "outputs": [],
   "source": []
  }
 ],
 "metadata": {
  "anaconda-cloud": {},
  "kernelspec": {
   "display_name": "Python 3",
   "language": "python",
   "name": "python3"
  },
  "language_info": {
   "codemirror_mode": {
    "name": "ipython",
    "version": 3
   },
   "file_extension": ".py",
   "mimetype": "text/x-python",
   "name": "python",
   "nbconvert_exporter": "python",
   "pygments_lexer": "ipython3",
   "version": "3.8.5"
  }
 },
 "nbformat": 4,
 "nbformat_minor": 4
}
