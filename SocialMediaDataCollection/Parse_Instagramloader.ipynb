{
 "cells": [
  {
   "cell_type": "markdown",
   "metadata": {},
   "source": [
    "# Parser for Instagram Loader Files\n",
    "\n",
    "This script gets all the files that have a .json extension in the same folder, and generates one pandas dataframe for posts, and another for images.\n",
    "\n",
    "**IMPORTANT:** InstagramLoader seems to save the .json files compressed (.xz format). You need to extract these files first. You could use the Unarchiver (for mac) for this."
   ]
  },
  {
   "cell_type": "code",
   "execution_count": null,
   "metadata": {},
   "outputs": [],
   "source": [
    "import pandas as pd \n",
    "import os\n",
    "import json\n",
    "import sys\n",
    "import datetime"
   ]
  },
  {
   "cell_type": "code",
   "execution_count": null,
   "metadata": {},
   "outputs": [],
   "source": [
    "def parse_comments(id_alt,comment_edges,post_id=None):\n",
    "    comments = []\n",
    "    for item in comment_edges:\n",
    "        r = {}\n",
    "        if post_id:\n",
    "            r['post_comment_id'] = post_id\n",
    "        else:\n",
    "            r['post_comment_id'] = \"\".join(id_alt.split(\"_\")[:2]).replace(\"-\",\"\")\n",
    "        for key, value in item.items():\n",
    "            if type(item[key]) == dict:\n",
    "                for subkey, subvalue in item[key].items():\n",
    "                    if type(item[key][subkey]) == dict:\n",
    "                        for subsubkey, subsubvalue in item[key][subkey].items():\n",
    "                            r[str(key)+'_'+str(subkey)+'_'+str(subsubkey)] = item[key][subkey][subsubkey]\n",
    "                    else:\n",
    "                        r[str(key)+'_'+str(subkey)] = item[key][subkey]\n",
    "            else:\n",
    "                r[key] = value\n",
    "        comments.append(r)\n",
    "    return pd.DataFrame(comments)\n",
    "                "
   ]
  },
  {
   "cell_type": "code",
   "execution_count": null,
   "metadata": {},
   "outputs": [],
   "source": [
    "def parse_post(item, id_alt):\n",
    "    post = []\n",
    "    r = {}\n",
    "    for key, value in item.items():\n",
    "        r['post_comment_id'] = \"\".join(id_alt.split(\"_\")[:2]).replace(\"-\",\"\")\n",
    "        if type(item[key]) == dict:\n",
    "            for subkey, subvalue in item[key].items():\n",
    "                if type(item[key][subkey]) == dict:\n",
    "                    for subsubkey, subsubvalue in item[key][subkey].items():\n",
    "                        if type(item[key][subkey][subsubkey]) == dict:\n",
    "                            for subsubsubkey, subsubsubvalue in item[key][subkey][subsubkey].items():\n",
    "                                r[str(key)+'_'+str(subkey)+'_'+str(subsubkey)+'_'+str(subsubsubkey)] = item[key][subkey][subsubkey][subsubsubkey]\n",
    "                            \n",
    "                            \n",
    "                        else:\n",
    "                            r[str(key)+'_'+str(subkey)+'_'+str(subsubkey)] = item[key][subkey][subsubkey]\n",
    "                else:\n",
    "                    r[str(key)+'_'+str(subkey)] = item[key][subkey]\n",
    "        else:\n",
    "            r[key] = value\n",
    "            \n",
    "#     print(item)\n",
    "    try:\n",
    "        r['post_text'] = item['edge_media_to_caption']['edges'][0]['node']['text']\n",
    "    except:\n",
    "        pass\n",
    "    \n",
    "    post.append(r)\n",
    "    return pd.DataFrame(post)"
   ]
  },
  {
   "cell_type": "code",
   "execution_count": null,
   "metadata": {},
   "outputs": [],
   "source": [
    "def parse_instagram(filesave):\n",
    "    files = os.listdir()\n",
    "    file_posts = [item for item in files if '.json' in item and 'comments' not in item]\n",
    "    file_comments = [item for item in files if '.json' in item and 'comments' in item]\n",
    "    print('files found for posts:', file_posts)\n",
    "    print('files found for comments:', file_comments)\n",
    "    posts = pd.DataFrame()\n",
    "    posts_comments = pd.DataFrame()\n",
    "    comments = pd.DataFrame()\n",
    "    for file in file_posts:\n",
    "        with open(file, 'r') as f:\n",
    "            data = json.loads(f.read())\n",
    "        print('started with', file)\n",
    "        p = {}\n",
    "        try:\n",
    "            comment_edges = data['node']['edge_media_to_comment']['edges']\n",
    "            del data['node']['edge_media_to_comment']['edges']\n",
    "            post_id = data['node']['id']\n",
    "            posts_comments = posts_comments.append(parse_comments(comment_edges, post_id = post_id))\n",
    "        except:\n",
    "            print('issue with comments for', file)\n",
    "        posts = posts.append(parse_post(data['node'], file))\n",
    "        print('completed', file)\n",
    "    \n",
    "    try:\n",
    "        posts_comments.to_pickle(filesave + '_comments.pkl')\n",
    "    except:\n",
    "        pass\n",
    "    \n",
    "    posts.to_pickle(filesave + '_posts.pkl')\n",
    "    \n",
    "    print('files found for comments:', file_comments)\n",
    "    for file in file_comments:\n",
    "        with open(file, 'r') as f:\n",
    "            data = json.loads(f.read())\n",
    "        print('started with', file)\n",
    "        #p = {}\n",
    "        comments = comments.append(parse_comments(file,data, post_id = None))\n",
    "        print('completed', file)\n",
    "    comments.to_pickle(filesave + '_comments.pkl')\n",
    "        \n",
    "        \n",
    "        \n",
    "    \n",
    "\n",
    "    \n",
    "#     return posts, posts_comments, comments\n",
    "    \n",
    "\n",
    "\n",
    "\n"
   ]
  },
  {
   "cell_type": "markdown",
   "metadata": {},
   "source": [
    "Run the function below (by running the cell) and change the filename to the name of the file you want the results to be saved as. Do not include dots or extension. If you put 'test_1', for example, two files will be generated: 'test_1_comments.pkl', with the comments, and 'test_1_posts.pkl', with the posts that are included in the folder. Column \"post_comment_id\" links comments file with posts file (allowing you to connect/merge the dataframes)."
   ]
  },
  {
   "cell_type": "code",
   "execution_count": null,
   "metadata": {},
   "outputs": [],
   "source": [
    "parse_instagram('filename')"
   ]
  },
  {
   "cell_type": "code",
   "execution_count": null,
   "metadata": {},
   "outputs": [],
   "source": []
  }
 ],
 "metadata": {
  "kernelspec": {
   "display_name": "Python 3",
   "language": "python",
   "name": "python3"
  },
  "language_info": {
   "codemirror_mode": {
    "name": "ipython",
    "version": 3
   },
   "file_extension": ".py",
   "mimetype": "text/x-python",
   "name": "python",
   "nbconvert_exporter": "python",
   "pygments_lexer": "ipython3",
   "version": "3.9.1"
  }
 },
 "nbformat": 4,
 "nbformat_minor": 2
}
